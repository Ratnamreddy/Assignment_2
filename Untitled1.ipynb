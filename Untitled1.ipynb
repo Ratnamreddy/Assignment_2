{
  "nbformat": 4,
  "nbformat_minor": 0,
  "metadata": {
    "colab": {
      "provenance": [],
      "authorship_tag": "ABX9TyO4Bl+jcz4zi1N8MZ3gV7NK",
      "include_colab_link": true
    },
    "kernelspec": {
      "name": "python3",
      "display_name": "Python 3"
    },
    "language_info": {
      "name": "python"
    }
  },
  "cells": [
    {
      "cell_type": "markdown",
      "metadata": {
        "id": "view-in-github",
        "colab_type": "text"
      },
      "source": [
        "<a href=\"https://colab.research.google.com/github/Ratnamreddy/Assignment_2/blob/main/Untitled1.ipynb\" target=\"_parent\"><img src=\"https://colab.research.google.com/assets/colab-badge.svg\" alt=\"Open In Colab\"/></a>"
      ]
    },
    {
      "cell_type": "code",
      "execution_count": 6,
      "metadata": {
        "colab": {
          "base_uri": "https://localhost:8080/"
        },
        "id": "zy8FQ1fPK_VW",
        "outputId": "70494815-993f-4ae7-e8e3-4835bbfd9c4b"
      },
      "outputs": [
        {
          "output_type": "stream",
          "name": "stdout",
          "text": [
            "Optimal x: 0.0\n",
            "Optimal value: 10.0\n"
          ]
        }
      ],
      "source": [
        "# Gradient Descent for minimizing f(x) = x^4 + 3x^2 + 10\n",
        "\n",
        "# Define the function and its derivative\n",
        "def f(x):\n",
        "    return x**4 + 3*x**2 + 10\n",
        "\n",
        "def f_prime(x):\n",
        "    return 4*x**3 + 6*x\n",
        "\n",
        "# Gradient Descent Parameters\n",
        "x = 1  # Initial guess\n",
        "eta = 0.1  # Learning rate\n",
        "iterations = 100  # Maximum number of iterations\n",
        "\n",
        "# Gradient Descent Loop\n",
        "history = []  # To store function values for analysis\n",
        "for i in range(iterations):\n",
        "    grad = f_prime(x)\n",
        "    x = x - eta * grad  # Update step\n",
        "    history.append((i+1, x, f(x)))\n",
        "\n",
        "# Display results\n",
        "optimal_x = x\n",
        "optimal_value = f(x)\n",
        "\n",
        "print(f\"Optimal x: {optimal_x}\")\n",
        "print(f\"Optimal value: {optimal_value}\")\n"
      ]
    },
    {
      "cell_type": "code",
      "source": [],
      "metadata": {
        "id": "xxsoFOHnLB5S"
      },
      "execution_count": null,
      "outputs": []
    }
  ]
}